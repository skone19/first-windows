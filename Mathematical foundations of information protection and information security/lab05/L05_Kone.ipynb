{
 "cells": [
  {
   "cell_type": "code",
   "execution_count": 1,
   "id": "89199879-424a-4b02-b7a2-1fc6e00e8054",
   "metadata": {},
   "outputs": [],
   "source": [
    "import numpy as np"
   ]
  },
  {
   "cell_type": "markdown",
   "id": "6287bf53-d192-471e-8e59-26d7eedb6daf",
   "metadata": {},
   "source": [
    "# 1.Альгоритм, Реализуующий тест Ферма"
   ]
  },
  {
   "cell_type": "code",
   "execution_count": 6,
   "id": "2b187332-68d9-4a98-baac-dc45bbb8cbd9",
   "metadata": {},
   "outputs": [],
   "source": [
    "def fermat_algorithm(n):\n",
    "    \"\"\"\n",
    "    Проверяет простоту числа n с помощью теста Ферма\n",
    "    \"\"\"\n",
    "    # удостоверяемся, что n - нечетное\n",
    "    # (иначе проверка не имеет смысла)\n",
    "    # и не меньше, чем 5\n",
    "    if n < 5 or n % 2 == 0:\n",
    "        return \"Некорректное число n\"\n",
    "    \n",
    "    a = np.random.randint(2, n - 1) # шаг 1\n",
    "    r = (a ** (n - 1)) % n # шаг 2\n",
    "\n",
    "    # шаг 3\n",
    "    if r == 1:\n",
    "        return \"Число {}, вероятно, простое\".format(n)\n",
    "    else:\n",
    "        return \"Число {} составное\".format(n)\n",
    "\n",
    "        "
   ]
  },
  {
   "cell_type": "code",
   "execution_count": 8,
   "id": "afb70f16-ad80-4c78-87e2-58b83aee68ef",
   "metadata": {},
   "outputs": [
    {
     "name": "stdout",
     "output_type": "stream",
     "text": [
      "Число 37, Составное ; Число 239, Вероятно, простое ; Число 877, Вероятно, простое\n",
      "Число 63, Составное ; Число 755, Составное ; Число 1111111, Вероятно, простое\n"
     ]
    }
   ],
   "source": [
    "print (fermat_algorithm(37),  \";\", fermat_algorithm(239), \";\", fermat_algorithm(877))\n",
    "print (fermat_algorithm(63),  \";\", fermat_algorithm(755), \";\", fermat_algorithm(1111111))"
   ]
  },
  {
   "cell_type": "markdown",
   "id": "8ebdb6fb-91e7-494d-abf7-e8f5bfe3cc75",
   "metadata": {},
   "source": [
    "# 2. Алгоритм вычисления символа Якоби"
   ]
  },
  {
   "cell_type": "code",
   "execution_count": 9,
   "id": "79172085-8208-4d73-90c5-796d404feda7",
   "metadata": {},
   "outputs": [],
   "source": [
    "def equal_by_modulo(a, b, m):\n",
    "    \"\"\"\n",
    "    Проверяет, сравнимы ли числа a и b по модулю m\n",
    "    \"\"\"\n",
    "    return (True if (a - b) % m == 0 else False)\n",
    "\n",
    "def jacobi_symbol(a, n, g = 1):\n",
    "    \"\"\"\n",
    "    Вычисляет символ Якоби (a / n); \n",
    "    параметр g используется для рекурсивного вызова функции\n",
    "    \"\"\"\n",
    "    # шаг первый: значение параметра g по умолчанию\n",
    "    if a == 0: # шаг 2\n",
    "        return 0\n",
    "    elif a == 1: # шаг 3\n",
    "        return g\n",
    "\n",
    "    # шаг 4: представляем число a\n",
    "    # в виде 2^k * a1 \n",
    "    k = 0\n",
    "\n",
    "    # для этого увеличиваем k до тех пор,\n",
    "    # пока а не перестанет нацело делиться на 2^k\n",
    "    while a % (2 ** k) == 0:\n",
    "        k += 1\n",
    "    k -= 1\n",
    "\n",
    "    a1 = int(a / (2 ** k))\n",
    "\n",
    "    # шаг 5\n",
    "    s = 1\n",
    "    if k % 2 == 1 and (equal_by_modulo(n, 3, 8) or equal_by_modulo(n, -3, 8)):\n",
    "        s = -1\n",
    "    \n",
    "    # шаг 6\n",
    "    if a1 == 1:\n",
    "        return g * s\n",
    "\n",
    "    # шаг 7\n",
    "    if equal_by_modulo(n, 3, 4) and equal_by_modulo(a1, 3, 4):\n",
    "        s = -s\n",
    "    \n",
    "    # шаг 8\n",
    "    a = n % a1\n",
    "    n = a1\n",
    "    g = g * s\n",
    "\n",
    "    return jacobi_symbol(a, n, g)\n"
   ]
  },
  {
   "cell_type": "code",
   "execution_count": 11,
   "id": "acf672ea-4280-4203-bdf1-473e8b9cf098",
   "metadata": {},
   "outputs": [
    {
     "name": "stdout",
     "output_type": "stream",
     "text": [
      "Символ Якоби (1001/9907)=-1\n",
      "Символ Якоби (19/45)=1\n",
      "Символ Якоби (219/383)=1\n"
     ]
    }
   ],
   "source": [
    "print(\"Символ Якоби ({}/{})={}\".format(1001,9907, jacobi_symbol( 1001, 9907)))\n",
    "print(\"Символ Якоби ({}/{})={}\".format(19,45, jacobi_symbol( 19, 45)))\n",
    "print(\"Символ Якоби ({}/{})={}\".format(219,383, jacobi_symbol( 219, 383)))"
   ]
  },
  {
   "cell_type": "markdown",
   "id": "2075272a-3d45-4f1e-bc19-69fde8488b86",
   "metadata": {},
   "source": [
    "# 3 Алгоритм, реализающий тест Соловея-Штрассена"
   ]
  },
  {
   "cell_type": "code",
   "execution_count": 16,
   "id": "5533b1b7-06d0-4747-a518-4ec13bd6993b",
   "metadata": {},
   "outputs": [],
   "source": [
    "def solary_strassen_algorithm(n):\n",
    "     \"\"\"\n",
    "    Проверяет простоту числа n с помощью теста Соловея-Штрассена\n",
    "    \"\"\"\n",
    "    if n<5 or n%2==0:\n",
    "        return \"Некорректное число n\"\n",
    "\n",
    "    a = np.random.randint(2, n - 2) # шаг 1\n",
    "    r = (a ** (n - 1)) % n # шаг 2\n",
    "    if r!=1 and r!=(n-1): # шаг 3\n",
    "        return \"Число {} составное\".format(n)\n",
    "\n",
    "    s=jacobi_symbol(a, n) # шаг 4\n",
    "    if not equal_by_modulo(r, s, n): # шаг 5\n",
    "        return \"Число {} составное\".format(n)\n",
    "    else: \n",
    "        return \"Число {}, вероятно, простое\".format(n)\n"
   ]
  },
  {
   "cell_type": "code",
   "execution_count": null,
   "id": "8f5a8afd-4670-4a87-97c8-2647613812f5",
   "metadata": {},
   "outputs": [],
   "source": [
    "print (solary_strassen_algorithm(37),  \";\", solary_strassen_algorithm(239), \";\", solary_strassen_algorithm(877))\n",
    "print (solary_strassen_algorithm(63),  \";\", solary_strassen_algorithm(755), \";\", solary_strassen_algorithm(1111111))"
   ]
  },
  {
   "cell_type": "markdown",
   "id": "656ad783-5344-4f2a-b105-582ea9b050a9",
   "metadata": {},
   "source": [
    "# 4 Алгоритм, реализающий тест Миллена-Рабина"
   ]
  },
  {
   "cell_type": "code",
   "execution_count": 19,
   "id": "439f9aaa-ca22-4294-b09a-109cb0c85f73",
   "metadata": {},
   "outputs": [],
   "source": [
    "def miller_rabin_algorithm(n):\n",
    "    \"\"\"\n",
    "    Проверяет простоту числа n с помощью теста Миллера-Рабина\n",
    "    \"\"\"\n",
    "    # удостоверяемся, что n - нечетное\n",
    "    # (иначе проверка не имеет смысла)\n",
    "    # и не меньше, чем 5\n",
    "    if n < 5 or n % 2 == 0:\n",
    "        return \"Некорректное число n\"\n",
    "\n",
    "    # шаг 1\n",
    "    s = 0\n",
    "\n",
    "    while (n - 1) % (2 ** s) == 0:\n",
    "        s += 1\n",
    "\n",
    "    s -= 1\n",
    "    r = int((n - 1) / (2 ** s))\n",
    "\n",
    "    a = np.random.randint(2, n - 2) # шаг 2\n",
    "    y = (a ** r) % n # шаг 3\n",
    "\n",
    "    # шаг 4\n",
    "    if y != 1 and y != (n - 1):\n",
    "        j = 1 # шаг 4.1\n",
    "\n",
    "        # шаг 4.2\n",
    "        while j <= (s - 1) and y != (n - 1):\n",
    "            y = (y ** 2) % n # шаг 4.2.1\n",
    "\n",
    "            # шаг 4.2.2\n",
    "            if y == 1:\n",
    "                return \"Число {} составное\".format(n)\n",
    "\n",
    "            j += 1 # шаг 4.2.3\n",
    "\n",
    "        # шаг 4.3\n",
    "        if y != (n - 1):\n",
    "            return \"Число {} составное\".format(n)\n",
    "    \n",
    "    # шаг 5\n",
    "    return \"Число {}, вероятно, простое\".format(n)"
   ]
  },
  {
   "cell_type": "code",
   "execution_count": 20,
   "id": "0d8b955f-2e7e-4505-9034-124b137f0247",
   "metadata": {},
   "outputs": [
    {
     "name": "stdout",
     "output_type": "stream",
     "text": [
      "Число 37, вероятно, простое ; Число 239, вероятно, простое ; Число 877, вероятно, простое\n",
      "Число 63 составное ; Число 755 составное ; Число 1111111 составное\n"
     ]
    }
   ],
   "source": [
    "print ( miller_rabin_algorithm(37),  \";\",  miller_rabin_algorithm(239), \";\",  miller_rabin_algorithm(877))\n",
    "print ( miller_rabin_algorithm(63),  \";\",  miller_rabin_algorithm(755), \";\",  miller_rabin_algorithm(1111111))"
   ]
  },
  {
   "cell_type": "code",
   "execution_count": null,
   "id": "c0e15cb5-5ccc-4989-b3c1-fc37d533a15a",
   "metadata": {},
   "outputs": [],
   "source": []
  }
 ],
 "metadata": {
  "kernelspec": {
   "display_name": "Python 3 (ipykernel)",
   "language": "python",
   "name": "python3"
  },
  "language_info": {
   "codemirror_mode": {
    "name": "ipython",
    "version": 3
   },
   "file_extension": ".py",
   "mimetype": "text/x-python",
   "name": "python",
   "nbconvert_exporter": "python",
   "pygments_lexer": "ipython3",
   "version": "3.11.5"
  }
 },
 "nbformat": 4,
 "nbformat_minor": 5
}
